{
  "nbformat": 4,
  "nbformat_minor": 0,
  "metadata": {
    "colab": {
      "name": "HOMEWORK 3 - FRAUD DETECTION.ipynb",
      "version": "0.3.2",
      "provenance": [],
      "collapsed_sections": [],
      "include_colab_link": true
    },
    "kernelspec": {
      "name": "python3",
      "display_name": "Python 3"
    },
    "accelerator": "GPU"
  },
  "cells": [
    {
      "cell_type": "markdown",
      "metadata": {
        "id": "view-in-github",
        "colab_type": "text"
      },
      "source": [
        "<a href=\"https://colab.research.google.com/github/Motrik/FRAUD-DETECTION---homework-3/blob/master/HOMEWORK_3_FRAUD_DETECTION.ipynb\" target=\"_parent\"><img src=\"https://colab.research.google.com/assets/colab-badge.svg\" alt=\"Open In Colab\"/></a>"
      ]
    },
    {
      "cell_type": "markdown",
      "metadata": {
        "id": "NTEncAWTZtgl",
        "colab_type": "text"
      },
      "source": [
        "train a model with pandas, seaborn and scikit-learn to create a fraud detection classifier.\n",
        "\n",
        "Instructions:\n",
        "\n",
        "Build a **logistic regression model using Scikit-learn to predict fraudulent transactions** by training it on this kaggle dataset.\n",
        "\n",
        "\n",
        "Before you train the model, create at least 1 visualization of the data using the seaborn library of your choice. This should be submitted as a \"\"jupyter notebook\". "
      ]
    },
    {
      "cell_type": "code",
      "metadata": {
        "id": "mDEsn9RH5xqL",
        "colab_type": "code",
        "outputId": "51991fce-ec69-4c85-eae2-9664b1cf2240",
        "colab": {
          "base_uri": "https://localhost:8080/",
          "height": 388
        }
      },
      "source": [
        "from sklearn.model_selection import StratifiedShuffleSplit\n",
        "from sklearn.linear_model import LogisticRegression\n",
        "from sklearn.metrics import classification_report\n",
        "import pandas as pd\n",
        "\n",
        "#Siraj:\n",
        "import sklearn\n",
        "\n",
        "import numpy as np\n",
        "import sklearn as sk\n",
        "import matplotlib.pyplot as plt\n",
        "from sklearn.preprocessing import scale\n",
        "import random\n",
        "\n",
        "\n",
        "  \n",
        "# Download the data and store it\n",
        "!wget -O creditcard.csv https://www.dropbox.com/s/f1t8n74zx25biq3/creditcard.csv?dl=0\n",
        "# Read the CSV file\n",
        "data = pd.read_csv('creditcard.csv')\n",
        "data = data.sample(frac=.1).reset_index(drop = True)\n",
        "#data.info()"
      ],
      "execution_count": 0,
      "outputs": [
        {
          "output_type": "stream",
          "text": [
            "--2019-09-16 14:25:25--  https://www.dropbox.com/s/f1t8n74zx25biq3/creditcard.csv?dl=0\n",
            "Resolving www.dropbox.com (www.dropbox.com)... 162.125.1.1, 2620:100:6016:1::a27d:101\n",
            "Connecting to www.dropbox.com (www.dropbox.com)|162.125.1.1|:443... connected.\n",
            "HTTP request sent, awaiting response... 301 Moved Permanently\n",
            "Location: /s/raw/f1t8n74zx25biq3/creditcard.csv [following]\n",
            "--2019-09-16 14:25:26--  https://www.dropbox.com/s/raw/f1t8n74zx25biq3/creditcard.csv\n",
            "Reusing existing connection to www.dropbox.com:443.\n",
            "HTTP request sent, awaiting response... 302 Found\n",
            "Location: https://uc008c3f65f1fa2dd49f8c4492d2.dl.dropboxusercontent.com/cd/0/inline/Aoqs-N-ay1drtsoFGRNklFtSb3Ufh26QFIFzjPPaDCYrAQrojrJQKY3FkJYaZbqA53BeN0cM4Rsdjkwcljavwci8kEhB8c2SW1gF9_KC8h6cG0vx6sazd8BdnInVKEwZutk/file# [following]\n",
            "--2019-09-16 14:25:26--  https://uc008c3f65f1fa2dd49f8c4492d2.dl.dropboxusercontent.com/cd/0/inline/Aoqs-N-ay1drtsoFGRNklFtSb3Ufh26QFIFzjPPaDCYrAQrojrJQKY3FkJYaZbqA53BeN0cM4Rsdjkwcljavwci8kEhB8c2SW1gF9_KC8h6cG0vx6sazd8BdnInVKEwZutk/file\n",
            "Resolving uc008c3f65f1fa2dd49f8c4492d2.dl.dropboxusercontent.com (uc008c3f65f1fa2dd49f8c4492d2.dl.dropboxusercontent.com)... 162.125.1.6, 2620:100:6016:6::a27d:106\n",
            "Connecting to uc008c3f65f1fa2dd49f8c4492d2.dl.dropboxusercontent.com (uc008c3f65f1fa2dd49f8c4492d2.dl.dropboxusercontent.com)|162.125.1.6|:443... connected.\n",
            "HTTP request sent, awaiting response... 200 OK\n",
            "Length: 150828752 (144M) [text/plain]\n",
            "Saving to: ‘creditcard.csv’\n",
            "\n",
            "creditcard.csv      100%[===================>] 143.84M  8.12MB/s    in 19s     \n",
            "\n",
            "2019-09-16 14:25:45 (7.70 MB/s) - ‘creditcard.csv’ saved [150828752/150828752]\n",
            "\n"
          ],
          "name": "stdout"
        }
      ]
    },
    {
      "cell_type": "code",
      "metadata": {
        "id": "QNR0Uet3kg88",
        "colab_type": "code",
        "outputId": "e517570d-2091-4544-c698-ea40d698b458",
        "colab": {
          "base_uri": "https://localhost:8080/",
          "height": 311
        }
      },
      "source": [
        "data.describe()"
      ],
      "execution_count": 0,
      "outputs": [
        {
          "output_type": "execute_result",
          "data": {
            "text/html": [
              "<div>\n",
              "<style scoped>\n",
              "    .dataframe tbody tr th:only-of-type {\n",
              "        vertical-align: middle;\n",
              "    }\n",
              "\n",
              "    .dataframe tbody tr th {\n",
              "        vertical-align: top;\n",
              "    }\n",
              "\n",
              "    .dataframe thead th {\n",
              "        text-align: right;\n",
              "    }\n",
              "</style>\n",
              "<table border=\"1\" class=\"dataframe\">\n",
              "  <thead>\n",
              "    <tr style=\"text-align: right;\">\n",
              "      <th></th>\n",
              "      <th>Time</th>\n",
              "      <th>V1</th>\n",
              "      <th>V2</th>\n",
              "      <th>V3</th>\n",
              "      <th>V4</th>\n",
              "      <th>V5</th>\n",
              "      <th>V6</th>\n",
              "      <th>V7</th>\n",
              "      <th>V8</th>\n",
              "      <th>V9</th>\n",
              "      <th>V10</th>\n",
              "      <th>V11</th>\n",
              "      <th>V12</th>\n",
              "      <th>V13</th>\n",
              "      <th>V14</th>\n",
              "      <th>V15</th>\n",
              "      <th>V16</th>\n",
              "      <th>V17</th>\n",
              "      <th>V18</th>\n",
              "      <th>V19</th>\n",
              "      <th>V20</th>\n",
              "      <th>V21</th>\n",
              "      <th>V22</th>\n",
              "      <th>V23</th>\n",
              "      <th>V24</th>\n",
              "      <th>V25</th>\n",
              "      <th>V26</th>\n",
              "      <th>V27</th>\n",
              "      <th>V28</th>\n",
              "      <th>Amount</th>\n",
              "      <th>Class</th>\n",
              "    </tr>\n",
              "  </thead>\n",
              "  <tbody>\n",
              "    <tr>\n",
              "      <th>count</th>\n",
              "      <td>28481.000000</td>\n",
              "      <td>28481.000000</td>\n",
              "      <td>28481.000000</td>\n",
              "      <td>28481.000000</td>\n",
              "      <td>28481.000000</td>\n",
              "      <td>28481.000000</td>\n",
              "      <td>28481.000000</td>\n",
              "      <td>28481.000000</td>\n",
              "      <td>28481.000000</td>\n",
              "      <td>28481.000000</td>\n",
              "      <td>28481.000000</td>\n",
              "      <td>28481.000000</td>\n",
              "      <td>28481.000000</td>\n",
              "      <td>28481.000000</td>\n",
              "      <td>28481.000000</td>\n",
              "      <td>28481.000000</td>\n",
              "      <td>28481.000000</td>\n",
              "      <td>28481.000000</td>\n",
              "      <td>28481.000000</td>\n",
              "      <td>28481.000000</td>\n",
              "      <td>28481.000000</td>\n",
              "      <td>28481.000000</td>\n",
              "      <td>28481.000000</td>\n",
              "      <td>28481.000000</td>\n",
              "      <td>28481.000000</td>\n",
              "      <td>28481.000000</td>\n",
              "      <td>28481.000000</td>\n",
              "      <td>28481.000000</td>\n",
              "      <td>28481.000000</td>\n",
              "      <td>28481.000000</td>\n",
              "      <td>28481.000000</td>\n",
              "    </tr>\n",
              "    <tr>\n",
              "      <th>mean</th>\n",
              "      <td>94941.956532</td>\n",
              "      <td>0.007809</td>\n",
              "      <td>-0.019403</td>\n",
              "      <td>-0.002130</td>\n",
              "      <td>0.005163</td>\n",
              "      <td>-0.008438</td>\n",
              "      <td>-0.005988</td>\n",
              "      <td>0.002822</td>\n",
              "      <td>0.000684</td>\n",
              "      <td>-0.003689</td>\n",
              "      <td>-0.005834</td>\n",
              "      <td>-0.008254</td>\n",
              "      <td>-0.004772</td>\n",
              "      <td>0.002761</td>\n",
              "      <td>0.006301</td>\n",
              "      <td>0.004529</td>\n",
              "      <td>-0.000973</td>\n",
              "      <td>0.001256</td>\n",
              "      <td>0.004878</td>\n",
              "      <td>0.005814</td>\n",
              "      <td>-0.000525</td>\n",
              "      <td>-0.007022</td>\n",
              "      <td>0.002647</td>\n",
              "      <td>0.008683</td>\n",
              "      <td>-0.001417</td>\n",
              "      <td>-0.006610</td>\n",
              "      <td>0.003049</td>\n",
              "      <td>0.000867</td>\n",
              "      <td>-0.002180</td>\n",
              "      <td>90.267480</td>\n",
              "      <td>0.001545</td>\n",
              "    </tr>\n",
              "    <tr>\n",
              "      <th>std</th>\n",
              "      <td>47546.113350</td>\n",
              "      <td>1.956717</td>\n",
              "      <td>1.673850</td>\n",
              "      <td>1.508222</td>\n",
              "      <td>1.409959</td>\n",
              "      <td>1.384176</td>\n",
              "      <td>1.333389</td>\n",
              "      <td>1.221286</td>\n",
              "      <td>1.197248</td>\n",
              "      <td>1.088153</td>\n",
              "      <td>1.056301</td>\n",
              "      <td>1.021502</td>\n",
              "      <td>0.996657</td>\n",
              "      <td>0.996932</td>\n",
              "      <td>0.945753</td>\n",
              "      <td>0.913729</td>\n",
              "      <td>0.874376</td>\n",
              "      <td>0.836117</td>\n",
              "      <td>0.830370</td>\n",
              "      <td>0.816641</td>\n",
              "      <td>0.795937</td>\n",
              "      <td>0.690254</td>\n",
              "      <td>0.723716</td>\n",
              "      <td>0.622013</td>\n",
              "      <td>0.606256</td>\n",
              "      <td>0.521089</td>\n",
              "      <td>0.483196</td>\n",
              "      <td>0.384232</td>\n",
              "      <td>0.287879</td>\n",
              "      <td>258.174022</td>\n",
              "      <td>0.039275</td>\n",
              "    </tr>\n",
              "    <tr>\n",
              "      <th>min</th>\n",
              "      <td>0.000000</td>\n",
              "      <td>-37.558067</td>\n",
              "      <td>-44.639245</td>\n",
              "      <td>-30.177317</td>\n",
              "      <td>-5.600607</td>\n",
              "      <td>-35.182120</td>\n",
              "      <td>-21.248752</td>\n",
              "      <td>-31.197329</td>\n",
              "      <td>-39.688571</td>\n",
              "      <td>-9.462573</td>\n",
              "      <td>-22.187089</td>\n",
              "      <td>-4.453853</td>\n",
              "      <td>-17.769143</td>\n",
              "      <td>-3.668705</td>\n",
              "      <td>-19.214325</td>\n",
              "      <td>-4.005558</td>\n",
              "      <td>-12.675269</td>\n",
              "      <td>-22.608868</td>\n",
              "      <td>-9.498746</td>\n",
              "      <td>-4.619034</td>\n",
              "      <td>-28.009635</td>\n",
              "      <td>-18.632919</td>\n",
              "      <td>-6.320710</td>\n",
              "      <td>-14.767079</td>\n",
              "      <td>-2.836627</td>\n",
              "      <td>-4.547278</td>\n",
              "      <td>-1.664130</td>\n",
              "      <td>-9.390980</td>\n",
              "      <td>-8.314029</td>\n",
              "      <td>0.000000</td>\n",
              "      <td>0.000000</td>\n",
              "    </tr>\n",
              "    <tr>\n",
              "      <th>25%</th>\n",
              "      <td>54317.000000</td>\n",
              "      <td>-0.913853</td>\n",
              "      <td>-0.620267</td>\n",
              "      <td>-0.893358</td>\n",
              "      <td>-0.842274</td>\n",
              "      <td>-0.698301</td>\n",
              "      <td>-0.769369</td>\n",
              "      <td>-0.554442</td>\n",
              "      <td>-0.206998</td>\n",
              "      <td>-0.640204</td>\n",
              "      <td>-0.537881</td>\n",
              "      <td>-0.773767</td>\n",
              "      <td>-0.410672</td>\n",
              "      <td>-0.649377</td>\n",
              "      <td>-0.422623</td>\n",
              "      <td>-0.569142</td>\n",
              "      <td>-0.464772</td>\n",
              "      <td>-0.477586</td>\n",
              "      <td>-0.488239</td>\n",
              "      <td>-0.449111</td>\n",
              "      <td>-0.211376</td>\n",
              "      <td>-0.231570</td>\n",
              "      <td>-0.543722</td>\n",
              "      <td>-0.160226</td>\n",
              "      <td>-0.352908</td>\n",
              "      <td>-0.323325</td>\n",
              "      <td>-0.325999</td>\n",
              "      <td>-0.071604</td>\n",
              "      <td>-0.052536</td>\n",
              "      <td>5.990000</td>\n",
              "      <td>0.000000</td>\n",
              "    </tr>\n",
              "    <tr>\n",
              "      <th>50%</th>\n",
              "      <td>85050.000000</td>\n",
              "      <td>0.029639</td>\n",
              "      <td>0.050994</td>\n",
              "      <td>0.177167</td>\n",
              "      <td>-0.005028</td>\n",
              "      <td>-0.058517</td>\n",
              "      <td>-0.280174</td>\n",
              "      <td>0.040740</td>\n",
              "      <td>0.021521</td>\n",
              "      <td>-0.052334</td>\n",
              "      <td>-0.088964</td>\n",
              "      <td>-0.041431</td>\n",
              "      <td>0.138342</td>\n",
              "      <td>-0.013508</td>\n",
              "      <td>0.047513</td>\n",
              "      <td>0.055334</td>\n",
              "      <td>0.069225</td>\n",
              "      <td>-0.066776</td>\n",
              "      <td>-0.005445</td>\n",
              "      <td>0.005276</td>\n",
              "      <td>-0.062572</td>\n",
              "      <td>-0.028666</td>\n",
              "      <td>0.010241</td>\n",
              "      <td>-0.010321</td>\n",
              "      <td>0.039394</td>\n",
              "      <td>0.007387</td>\n",
              "      <td>-0.047526</td>\n",
              "      <td>0.000881</td>\n",
              "      <td>0.011159</td>\n",
              "      <td>22.000000</td>\n",
              "      <td>0.000000</td>\n",
              "    </tr>\n",
              "    <tr>\n",
              "      <th>75%</th>\n",
              "      <td>139389.000000</td>\n",
              "      <td>1.319065</td>\n",
              "      <td>0.798155</td>\n",
              "      <td>1.029475</td>\n",
              "      <td>0.744308</td>\n",
              "      <td>0.601466</td>\n",
              "      <td>0.387308</td>\n",
              "      <td>0.566388</td>\n",
              "      <td>0.324273</td>\n",
              "      <td>0.599255</td>\n",
              "      <td>0.449678</td>\n",
              "      <td>0.738088</td>\n",
              "      <td>0.619588</td>\n",
              "      <td>0.660625</td>\n",
              "      <td>0.495634</td>\n",
              "      <td>0.652649</td>\n",
              "      <td>0.522214</td>\n",
              "      <td>0.398512</td>\n",
              "      <td>0.505331</td>\n",
              "      <td>0.461573</td>\n",
              "      <td>0.133129</td>\n",
              "      <td>0.186678</td>\n",
              "      <td>0.528700</td>\n",
              "      <td>0.150110</td>\n",
              "      <td>0.434997</td>\n",
              "      <td>0.343802</td>\n",
              "      <td>0.245545</td>\n",
              "      <td>0.089235</td>\n",
              "      <td>0.079268</td>\n",
              "      <td>79.000000</td>\n",
              "      <td>0.000000</td>\n",
              "    </tr>\n",
              "    <tr>\n",
              "      <th>max</th>\n",
              "      <td>172788.000000</td>\n",
              "      <td>2.422508</td>\n",
              "      <td>16.497472</td>\n",
              "      <td>3.940337</td>\n",
              "      <td>10.822399</td>\n",
              "      <td>31.457046</td>\n",
              "      <td>21.550496</td>\n",
              "      <td>36.877368</td>\n",
              "      <td>12.431140</td>\n",
              "      <td>9.077107</td>\n",
              "      <td>13.164571</td>\n",
              "      <td>12.018913</td>\n",
              "      <td>4.202685</td>\n",
              "      <td>4.316156</td>\n",
              "      <td>6.558272</td>\n",
              "      <td>5.667667</td>\n",
              "      <td>8.289890</td>\n",
              "      <td>7.611862</td>\n",
              "      <td>3.864228</td>\n",
              "      <td>5.228342</td>\n",
              "      <td>26.237391</td>\n",
              "      <td>17.333779</td>\n",
              "      <td>8.272233</td>\n",
              "      <td>18.364472</td>\n",
              "      <td>3.979637</td>\n",
              "      <td>5.473885</td>\n",
              "      <td>3.517346</td>\n",
              "      <td>8.088549</td>\n",
              "      <td>13.013546</td>\n",
              "      <td>12910.930000</td>\n",
              "      <td>1.000000</td>\n",
              "    </tr>\n",
              "  </tbody>\n",
              "</table>\n",
              "</div>"
            ],
            "text/plain": [
              "                Time            V1  ...        Amount         Class\n",
              "count   28481.000000  28481.000000  ...  28481.000000  28481.000000\n",
              "mean    94941.956532      0.007809  ...     90.267480      0.001545\n",
              "std     47546.113350      1.956717  ...    258.174022      0.039275\n",
              "min         0.000000    -37.558067  ...      0.000000      0.000000\n",
              "25%     54317.000000     -0.913853  ...      5.990000      0.000000\n",
              "50%     85050.000000      0.029639  ...     22.000000      0.000000\n",
              "75%    139389.000000      1.319065  ...     79.000000      0.000000\n",
              "max    172788.000000      2.422508  ...  12910.930000      1.000000\n",
              "\n",
              "[8 rows x 31 columns]"
            ]
          },
          "metadata": {
            "tags": []
          },
          "execution_count": 3
        }
      ]
    },
    {
      "cell_type": "code",
      "metadata": {
        "id": "eFq0juc8BMot",
        "colab_type": "code",
        "outputId": "ab83b8a2-bafc-4950-9746-4eb2d1696808",
        "colab": {
          "base_uri": "https://localhost:8080/",
          "height": 52
        }
      },
      "source": [
        "\n",
        "\n",
        "fraud = data.loc[data['Class'] == 1] # Please locate the Class Zero\n",
        "non_fraud = data.loc[data['Class'] == 0]\n",
        "\n",
        "print(len(fraud)) # How many classified as fraud\n",
        "print(len(non_fraud))"
      ],
      "execution_count": 0,
      "outputs": [
        {
          "output_type": "stream",
          "text": [
            "44\n",
            "28437\n"
          ],
          "name": "stdout"
        }
      ]
    },
    {
      "cell_type": "code",
      "metadata": {
        "id": "IL603wNmG5R1",
        "colab_type": "code",
        "outputId": "08b5a02d-386e-480d-a12e-974c0cf61c7b",
        "colab": {
          "base_uri": "https://localhost:8080/",
          "height": 283
        }
      },
      "source": [
        "ax = fraud.plot.scatter(x='Amount', y='Class', color='Red', label='Fraud')\n",
        "non_fraud.plot.scatter(x='Amount', y='Class', color='Blue', label='NonFraud', ax=ax)\n",
        "plt.show()"
      ],
      "execution_count": 0,
      "outputs": [
        {
          "output_type": "display_data",
          "data": {
            "image/png": "[encoded data removed]",
            "text/plain": [
              "<Figure size 432x288 with 1 Axes>"
            ]
          },
          "metadata": {
            "tags": []
          }
        }
      ]
    },
    {
      "cell_type": "code",
      "metadata": {
        "id": "jEO8975wAZOi",
        "colab_type": "code",
        "outputId": "abe140ca-980e-4640-e8e0-ed51ccaaa797",
        "colab": {
          "base_uri": "https://localhost:8080/",
          "height": 545
        }
      },
      "source": [
        "import seaborn as sns\n",
        "\n",
        "#Aesthetics\n",
        "sns.set(style=\"whitegrid\")\n",
        "\n",
        "# Initialize the matplotlib figure\n",
        "f, ax = plt.subplots(figsize=(16, 8))\n",
        "\n",
        "sns.regplot(x=\"Time\",\n",
        " y=\"Amount\",\n",
        " data=non_fraud, color=\"g\", ax=ax)\n",
        "sns.regplot(x=\"Time\",\n",
        " y=\"Amount\",\n",
        " data=fraud, color=\"r\", ax=ax)\n"
      ],
      "execution_count": 0,
      "outputs": [
        {
          "output_type": "execute_result",
          "data": {
            "text/plain": [
              "<matplotlib.axes._subplots.AxesSubplot at 0x7f023896a550>"
            ]
          },
          "metadata": {
            "tags": []
          },
          "execution_count": 6
        },
        {
          "output_type": "display_data",
          "data": {
            "image/png": "[encoded data removed]",
            "text/plain": [
              "<Figure size 1152x576 with 1 Axes>"
            ]
          },
          "metadata": {
            "tags": []
          }
        }
      ]
    },
    {
      "cell_type": "code",
      "metadata": {
        "id": "2ShmLouied0b",
        "colab_type": "code",
        "outputId": "0ab63d89-3970-44e0-f9a7-23a7ba79a21b",
        "colab": {
          "base_uri": "https://localhost:8080/",
          "height": 247
        }
      },
      "source": [
        "#Siraj\n",
        "\n",
        "#  MACHINE LEARNING\n",
        "\n",
        "from sklearn import linear_model\n",
        "from sklearn.model_selection import train_test_split\n",
        "\n",
        "X = data.iloc[:, :-1]\n",
        "y = data['Class']\n",
        " \n",
        "# Train and test split\n",
        "\n",
        "X_train, X_test, y_train, y_test = train_test_split(X,y,test_size=0.35)\n",
        "\n",
        "logistic = linear_model.LogisticRegression(C=1e5)\n",
        "logistic.fit(X_train,y_train)\n",
        "print('Score: ', logistic.score(X_test,y_test))\n",
        "\n",
        "y_pred = logistic.predict(X_test)\n",
        "print(classification_report(y_test, y_pred))"
      ],
      "execution_count": 0,
      "outputs": [
        {
          "output_type": "stream",
          "text": [
            "/usr/local/lib/python3.6/dist-packages/sklearn/linear_model/logistic.py:432: FutureWarning: Default solver will be changed to 'lbfgs' in 0.22. Specify a solver to silence this warning.\n",
            "  FutureWarning)\n"
          ],
          "name": "stderr"
        },
        {
          "output_type": "stream",
          "text": [
            "Score:  0.9990972013241047\n",
            "              precision    recall  f1-score   support\n",
            "\n",
            "           0       1.00      1.00      1.00      9956\n",
            "           1       0.70      0.54      0.61        13\n",
            "\n",
            "    accuracy                           1.00      9969\n",
            "   macro avg       0.85      0.77      0.80      9969\n",
            "weighted avg       1.00      1.00      1.00      9969\n",
            "\n"
          ],
          "name": "stdout"
        }
      ]
    },
    {
      "cell_type": "code",
      "metadata": {
        "id": "kHqeMnue8UlS",
        "colab_type": "code",
        "outputId": "851a9b59-45e4-48e9-a1ef-1d5d10a41924",
        "colab": {
          "base_uri": "https://localhost:8080/",
          "height": 210
        }
      },
      "source": [
        "# statistically summary of all the columns\n",
        "print(data.describe())\n"
      ],
      "execution_count": 0,
      "outputs": [
        {
          "output_type": "stream",
          "text": [
            "                Time            V1  ...        Amount         Class\n",
            "count   28481.000000  28481.000000  ...  28481.000000  28481.000000\n",
            "mean    94941.956532      0.007809  ...     90.267480      0.001545\n",
            "std     47546.113350      1.956717  ...    258.174022      0.039275\n",
            "min         0.000000    -37.558067  ...      0.000000      0.000000\n",
            "25%     54317.000000     -0.913853  ...      5.990000      0.000000\n",
            "50%     85050.000000      0.029639  ...     22.000000      0.000000\n",
            "75%    139389.000000      1.319065  ...     79.000000      0.000000\n",
            "max    172788.000000      2.422508  ...  12910.930000      1.000000\n",
            "\n",
            "[8 rows x 31 columns]\n"
          ],
          "name": "stdout"
        }
      ]
    },
    {
      "cell_type": "code",
      "metadata": {
        "id": "Unsmosp1-EBy",
        "colab_type": "code",
        "colab": {}
      },
      "source": [
        "# Only use the 'Amount' and 'V1', ..., 'V28' features (not CLASS nor TIME)\n",
        "features = ['Amount'] + ['V%d' % number for number in range(1, 29)]\n",
        "\n",
        "# The target variable which we would like to predict, is the 'Class' variable\n",
        "target = 'Class'\n",
        "\n",
        "# X(features) and y(target variable)\n",
        "X = data[features]\n",
        "y = data[target]"
      ],
      "execution_count": 0,
      "outputs": []
    },
    {
      "cell_type": "code",
      "metadata": {
        "id": "SEf8Cedt-fGz",
        "colab_type": "code",
        "colab": {}
      },
      "source": [
        "def normalize(X):\n",
        "    \"\"\"\n",
        "    Make the distribution of the values of each variable similar by subtracting the mean and by dividing by the standard deviation.\n",
        "    Notice that some of the variables have a wide range of values (like the Amount variable).\n",
        "    In order to get all variables in an equivalent range, we subtract the mean and divide by the standard deviation such that the distribution of the values is normalized:\n",
        "    \"\"\"\n",
        "    for feature in X.columns:\n",
        "        X[feature] -= X[feature].mean()\n",
        "        X[feature] /= X[feature].std()\n",
        "    return X"
      ],
      "execution_count": 0,
      "outputs": []
    },
    {
      "cell_type": "code",
      "metadata": {
        "id": "28hpSKlm-p7s",
        "colab_type": "code",
        "outputId": "a590b4cf-40f1-45b5-8abc-b37cd76d6ede",
        "colab": {
          "base_uri": "https://localhost:8080/",
          "height": 440
        }
      },
      "source": [
        "# Define the model - Logistic Regression Model\n",
        "model = LogisticRegression()\n",
        "\n",
        "# Define the splitter for splitting the data in a train set and a test set\n",
        "# StratisfiedShuffleSplit makes sure that the Class variable has roughly the same distribution in both the train set and the test set.\n",
        "# The random state specification makes sure that the result is deterministic: in other words, we will get the same results if we would run the analysis again.\n",
        "splitter = StratifiedShuffleSplit(n_splits=1, test_size=0.5, random_state=0)\n",
        "\n",
        "\n",
        "# Loop through the splits (only one)\n",
        "for train_indices, test_indices in splitter.split(X, y):\n",
        "    # Select the train and test data\n",
        "    X_train, y_train = X.iloc[train_indices], y.iloc[train_indices]\n",
        "    X_test, y_test = X.iloc[test_indices], y.iloc[test_indices]\n",
        "    \n",
        "    # Normalize the data\n",
        "    X_train = normalize(X_train)\n",
        "    X_test = normalize(X_test)\n",
        "    \n",
        "    # Fit and predict!\n",
        "    model.fit(X_train, y_train)\n",
        "    y_pred = model.predict(X_test)\n",
        "    \n",
        "    # And finally: show the results\n",
        "    print(classification_report(y_test, y_pred))"
      ],
      "execution_count": 0,
      "outputs": [
        {
          "output_type": "stream",
          "text": [
            "/usr/local/lib/python3.6/dist-packages/ipykernel_launcher.py:8: SettingWithCopyWarning: \n",
            "A value is trying to be set on a copy of a slice from a DataFrame.\n",
            "Try using .loc[row_indexer,col_indexer] = value instead\n",
            "\n",
            "See the caveats in the documentation: http://pandas.pydata.org/pandas-docs/stable/indexing.html#indexing-view-versus-copy\n",
            "  \n",
            "/usr/local/lib/python3.6/dist-packages/ipykernel_launcher.py:9: SettingWithCopyWarning: \n",
            "A value is trying to be set on a copy of a slice from a DataFrame.\n",
            "Try using .loc[row_indexer,col_indexer] = value instead\n",
            "\n",
            "See the caveats in the documentation: http://pandas.pydata.org/pandas-docs/stable/indexing.html#indexing-view-versus-copy\n",
            "  if __name__ == '__main__':\n"
          ],
          "name": "stderr"
        },
        {
          "output_type": "stream",
          "text": [
            "              precision    recall  f1-score   support\n",
            "\n",
            "           0       1.00      1.00      1.00     14219\n",
            "           1       0.80      0.73      0.76        22\n",
            "\n",
            "    accuracy                           1.00     14241\n",
            "   macro avg       0.90      0.86      0.88     14241\n",
            "weighted avg       1.00      1.00      1.00     14241\n",
            "\n"
          ],
          "name": "stdout"
        },
        {
          "output_type": "stream",
          "text": [
            "/usr/local/lib/python3.6/dist-packages/sklearn/linear_model/logistic.py:432: FutureWarning: Default solver will be changed to 'lbfgs' in 0.22. Specify a solver to silence this warning.\n",
            "  FutureWarning)\n"
          ],
          "name": "stderr"
        }
      ]
    },
    {
      "cell_type": "markdown",
      "metadata": {
        "id": "jwKTcrjEeFUu",
        "colab_type": "text"
      },
      "source": [
        "This is actually a great result! The 0 classes (transactions without fraud) are predicted with 100% precision and recall. It has some issues with detecting the 1 classes (transactions which are fraudulent). It can predict fraud with 88% precision. This means that 12% of the transactions which are fraudulent remain undetected by the system. But, 88% is still quite good!"
      ]
    },
    {
      "cell_type": "code",
      "metadata": {
        "id": "bmmojwN8eF8z",
        "colab_type": "code",
        "colab": {}
      },
      "source": [
        ""
      ],
      "execution_count": 0,
      "outputs": []
    }
  ]
}